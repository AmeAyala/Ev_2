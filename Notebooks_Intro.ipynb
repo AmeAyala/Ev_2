{
  "nbformat": 4,
  "nbformat_minor": 0,
  "metadata": {
    "colab": {
      "provenance": []
    },
    "kernelspec": {
      "name": "python3",
      "display_name": "Python 3"
    },
    "language_info": {
      "name": "python"
    }
  },
  "cells": [
    {
      "cell_type": "code",
      "execution_count": null,
      "metadata": {
        "id": "-Znou9MDbETw"
      },
      "outputs": [],
      "source": [
        "# Definir la clase Persona sin el uso de property-decorator\n",
        "class Persona:\n",
        "    def __init__(self, nombre, edad, genero):\n",
        "        self._nombre = nombre\n",
        "        self._edad = edad\n",
        "        self._genero = genero\n",
        "\n",
        "    # Método para obtener el nombre\n",
        "    def get_nombre(self):\n",
        "        return self._nombre\n",
        "\n",
        "    # Método para obtener la edad\n",
        "    def get_edad(self):\n",
        "        return self._edad\n",
        "\n",
        "    # Método para obtener el género\n",
        "    def get_genero(self):\n",
        "        return self._genero\n",
        "\n",
        "    # Método para saludar\n",
        "    def saludar(self):\n",
        "        print(f\"Hola, soy {self._nombre} y tengo {self._edad} años.\")\n",
        "\n",
        "# Demostración de uso\n",
        "# Crear una instancia de la clase Persona\n",
        "persona1 = Persona(\"Juan\", 25, \"Masculino\")\n",
        "\n",
        "# Acceder a los métodos para obtener los atributos\n",
        "print(f\"Nombre: {persona1.get_nombre()}\")\n",
        "print(f\"Edad: {persona1.get_edad()}\")\n",
        "print(f\"Género: {persona1.get_genero()}\")\n",
        "\n",
        "# Llamar al método saludar\n",
        "persona1.saludar()\n",
        "\n",
        "\n",
        "Nombre: Juan\n",
        "Edad: 25\n",
        "Género: Masculino\n",
        "Hola, soy Juan y tengo 25 años."
      ]
    }
  ]
}